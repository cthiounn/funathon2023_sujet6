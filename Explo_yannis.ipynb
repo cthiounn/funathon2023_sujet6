{
 "cells": [
  {
   "cell_type": "code",
   "execution_count": 1,
   "id": "00c91e16-fa3b-4509-b459-e1f28512e5fc",
   "metadata": {},
   "outputs": [
    {
     "name": "stdout",
     "output_type": "stream",
     "text": [
      "Requirement already satisfied: pandas in /opt/mamba/lib/python3.10/site-packages (2.0.2)\n",
      "Requirement already satisfied: python-dateutil>=2.8.2 in /opt/mamba/lib/python3.10/site-packages (from pandas) (2.8.2)\n",
      "Requirement already satisfied: pytz>=2020.1 in /opt/mamba/lib/python3.10/site-packages (from pandas) (2023.3)\n",
      "Requirement already satisfied: tzdata>=2022.1 in /opt/mamba/lib/python3.10/site-packages (from pandas) (2023.3)\n",
      "Requirement already satisfied: numpy>=1.21.0 in /opt/mamba/lib/python3.10/site-packages (from pandas) (1.25.0)\n",
      "Requirement already satisfied: six>=1.5 in /opt/mamba/lib/python3.10/site-packages (from python-dateutil>=2.8.2->pandas) (1.16.0)\n"
     ]
    }
   ],
   "source": [
    "!pip install pandas"
   ]
  },
  {
   "cell_type": "code",
   "execution_count": 2,
   "id": "870b58c6-7111-4147-87e2-b3bba9e810ee",
   "metadata": {},
   "outputs": [],
   "source": [
    "import s3fs\n",
    "import os\n",
    "import pandas as pd"
   ]
  },
  {
   "cell_type": "code",
   "execution_count": 3,
   "id": "c3e262ee-f20c-481e-a50a-4fc0fccd3089",
   "metadata": {},
   "outputs": [],
   "source": [
    "# Create filesystem object\n",
    "S3_ENDPOINT_URL = \"https://\" + os.environ[\"AWS_S3_ENDPOINT\"]\n",
    "fs = s3fs.S3FileSystem(client_kwargs={'endpoint_url': S3_ENDPOINT_URL})"
   ]
  },
  {
   "cell_type": "code",
   "execution_count": 15,
   "id": "9c0b915f-e937-4f2f-9ce3-d705a95fadbb",
   "metadata": {},
   "outputs": [],
   "source": [
    "# FILE_PATH_S3 = \"projet-funathon/2023/sujet6/diffusion/data/ingredients.csv\"\n",
    "# with fs.open(FILE_PATH_S3, mode=\"rb\") as file_in:\n",
    "#     df_bpe = pd.read_csv(file_in, sep=\";\")"
   ]
  },
  {
   "cell_type": "code",
   "execution_count": 4,
   "id": "dc84e776-91be-434b-887c-c4af77e65ef2",
   "metadata": {},
   "outputs": [
    {
     "data": {
      "text/html": [
       "<div>\n",
       "<style scoped>\n",
       "    .dataframe tbody tr th:only-of-type {\n",
       "        vertical-align: middle;\n",
       "    }\n",
       "\n",
       "    .dataframe tbody tr th {\n",
       "        vertical-align: top;\n",
       "    }\n",
       "\n",
       "    .dataframe thead th {\n",
       "        text-align: right;\n",
       "    }\n",
       "</style>\n",
       "<table border=\"1\" class=\"dataframe\">\n",
       "  <thead>\n",
       "    <tr style=\"text-align: right;\">\n",
       "      <th></th>\n",
       "      <th>description</th>\n",
       "    </tr>\n",
       "  </thead>\n",
       "  <tbody>\n",
       "    <tr>\n",
       "      <th>0</th>\n",
       "      <td>Abricot</td>\n",
       "    </tr>\n",
       "    <tr>\n",
       "      <th>1</th>\n",
       "      <td>Agar-agar</td>\n",
       "    </tr>\n",
       "    <tr>\n",
       "      <th>2</th>\n",
       "      <td>Agneau</td>\n",
       "    </tr>\n",
       "    <tr>\n",
       "      <th>3</th>\n",
       "      <td>Ail</td>\n",
       "    </tr>\n",
       "    <tr>\n",
       "      <th>4</th>\n",
       "      <td>Aïoli</td>\n",
       "    </tr>\n",
       "    <tr>\n",
       "      <th>...</th>\n",
       "      <td>...</td>\n",
       "    </tr>\n",
       "    <tr>\n",
       "      <th>868</th>\n",
       "      <td>Vodka</td>\n",
       "    </tr>\n",
       "    <tr>\n",
       "      <th>869</th>\n",
       "      <td>Vol-au-vent</td>\n",
       "    </tr>\n",
       "    <tr>\n",
       "      <th>870</th>\n",
       "      <td>Wasabi</td>\n",
       "    </tr>\n",
       "    <tr>\n",
       "      <th>871</th>\n",
       "      <td>Whisky</td>\n",
       "    </tr>\n",
       "    <tr>\n",
       "      <th>872</th>\n",
       "      <td>Yaourt</td>\n",
       "    </tr>\n",
       "  </tbody>\n",
       "</table>\n",
       "<p>873 rows × 1 columns</p>\n",
       "</div>"
      ],
      "text/plain": [
       "     description\n",
       "0        Abricot\n",
       "1      Agar-agar\n",
       "2         Agneau\n",
       "3            Ail\n",
       "4          Aïoli\n",
       "..           ...\n",
       "868        Vodka\n",
       "869  Vol-au-vent\n",
       "870       Wasabi\n",
       "871       Whisky\n",
       "872       Yaourt\n",
       "\n",
       "[873 rows x 1 columns]"
      ]
     },
     "execution_count": 4,
     "metadata": {},
     "output_type": "execute_result"
    }
   ],
   "source": [
    "df_ingredients = pd.read_csv('data/ingredients.csv')\n",
    "df_ingredients"
   ]
  },
  {
   "cell_type": "code",
   "execution_count": 26,
   "id": "7e4eb5c2-f12e-4da2-b575-51f6ef668dca",
   "metadata": {},
   "outputs": [],
   "source": [
    "with open('data/proust.txt') as f:\n",
    "    oeuvre = f.read().splitlines()\n",
    "\n",
    "oeuvre = [text.strip('\\t') for text in oeuvre]"
   ]
  },
  {
   "cell_type": "code",
   "execution_count": 29,
   "id": "ce06d8fe-2dde-40d7-b5eb-eac02f1b07ff",
   "metadata": {},
   "outputs": [
    {
     "data": {
      "text/plain": [
       "count    10593.000000\n",
       "mean       682.473615\n",
       "std       1818.129152\n",
       "min          0.000000\n",
       "25%          0.000000\n",
       "50%          0.000000\n",
       "75%        511.000000\n",
       "max      33201.000000\n",
       "Name: texte, dtype: float64"
      ]
     },
     "execution_count": 29,
     "metadata": {},
     "output_type": "execute_result"
    }
   ],
   "source": [
    "df_oeuvre = pd.DataFrame({'texte':oeuvre})\n",
    "df_oeuvre.texte.apply(lambda x: len(x)).describe()"
   ]
  },
  {
   "cell_type": "code",
   "execution_count": 34,
   "id": "e2459bce-d6c4-45cf-a80c-e2dfa1a21bf5",
   "metadata": {},
   "outputs": [
    {
     "data": {
      "text/plain": [
       "count     4888.000000\n",
       "mean      1479.018617\n",
       "std       2446.659142\n",
       "min          1.000000\n",
       "25%        162.000000\n",
       "50%        637.500000\n",
       "75%       1784.000000\n",
       "max      33201.000000\n",
       "Name: texte, dtype: float64"
      ]
     },
     "execution_count": 34,
     "metadata": {},
     "output_type": "execute_result"
    }
   ],
   "source": [
    "df_oeuvre = df_oeuvre.loc[df_oeuvre.texte!='']\n",
    "df_oeuvre.texte.apply(lambda x: len(x)).describe()"
   ]
  },
  {
   "cell_type": "code",
   "execution_count": null,
   "id": "f58c44a9-6a7e-4c78-9383-7b54e0413c46",
   "metadata": {},
   "outputs": [],
   "source": []
  }
 ],
 "metadata": {
  "kernelspec": {
   "display_name": "Python 3 (ipykernel)",
   "language": "python",
   "name": "python3"
  },
  "language_info": {
   "codemirror_mode": {
    "name": "ipython",
    "version": 3
   },
   "file_extension": ".py",
   "mimetype": "text/x-python",
   "name": "python",
   "nbconvert_exporter": "python",
   "pygments_lexer": "ipython3",
   "version": "3.10.9"
  }
 },
 "nbformat": 4,
 "nbformat_minor": 5
}
